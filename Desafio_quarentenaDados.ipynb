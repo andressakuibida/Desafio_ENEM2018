{
  "nbformat": 4,
  "nbformat_minor": 0,
  "metadata": {
    "colab": {
      "name": "Desafio #quarentenaDados.ipynb",
      "provenance": [],
      "collapsed_sections": [
        "_krDqwcQyEuI",
        "ortjD-4iyYUx",
        "Jo8XRAIFrLvW"
      ],
      "machine_shape": "hm",
      "authorship_tag": "ABX9TyNtCoIgBw9urdkrnGqhY5wT",
      "include_colab_link": true
    },
    "kernelspec": {
      "name": "python3",
      "display_name": "Python 3"
    }
  },
  "cells": [
    {
      "cell_type": "markdown",
      "metadata": {
        "id": "view-in-github",
        "colab_type": "text"
      },
      "source": [
        "<a href=\"https://colab.research.google.com/github/andressakuibida/Desafio_ENEM2018/blob/master/Desafio_quarentenaDados.ipynb\" target=\"_parent\"><img src=\"https://colab.research.google.com/assets/colab-badge.svg\" alt=\"Open In Colab\"/></a>"
      ]
    },
    {
      "cell_type": "markdown",
      "metadata": {
        "id": "vbSs4sAAx5oG",
        "colab_type": "text"
      },
      "source": [
        "# #Extração dos dados"
      ]
    },
    {
      "cell_type": "code",
      "metadata": {
        "id": "cX2dOM2K8Huq",
        "colab_type": "code",
        "colab": {}
      },
      "source": [
        "import pandas as pd\n",
        "import numpy as np\n",
        "\n",
        "np.random.seed(43267)\n",
        "\n",
        "%precision %.2f\n",
        "pd.options.display.float_format = '{:,.2f}'.format\n",
        "\n",
        "URI_TREINO = \"https://github.com/tgcsantos/quaretenadados/blob/master/DADOS_TREINO.csv?raw=true\"\n",
        "URI_TESTE = \"https://github.com/tgcsantos/quaretenadados/raw/master/DADOS_TESTE.csv\"\n",
        "URI_DESAFIOQT = \"https://github.com/tgcsantos/quaretenadados/raw/master/DESAFIOQT.csv\"\n",
        "URI_VALIDACAO = \"https://raw.githubusercontent.com/guilhermesilveira/enem-2018/master/MICRODADOS_ENEM_2018_SAMPLE_43278.csv\"\n",
        "\n",
        "dados_treino = pd.read_csv(URI_TREINO)\n",
        "dados_teste = pd.read_csv(URI_TESTE)\n",
        "dados_desafioqt = pd.read_csv(URI_DESAFIOQT)\n",
        "dados_validacao = pd.read_csv(URI_VALIDACAO)\n",
        "\n",
        "erro_treino = \"Erro ao carregar dados de treino\"\n",
        "erro_teste = \"Erro ao carregar dados de teste\"\n",
        "erro_desafioqt = \"Erro ao carregar dados de submissão\"\n",
        "\n",
        "assert dados_treino.shape == (150000, 5), erro_treino\n",
        "assert dados_teste.shape == (20000, 5), erro_teste\n",
        "assert dados_desafioqt.shape == (10000, 5), erro_desafioqt\n",
        "\n",
        "colunas_de_notas = ['NU_NOTA_CN', 'NU_NOTA_CH', 'NU_NOTA_LC', 'NU_NOTA_MT', 'NU_NOTA_REDACAO']\n",
        "dados_valid_sample = dados_validacao[colunas_de_notas].sample(n=20000, random_state=0)\n",
        "\n",
        "dados_valid_sample.dropna(inplace=True)\n",
        "colunas_ = ['ciencias_naturais', 'ciencias_humanas', 'linguagem_codigo', 'matematica', 'redacao']\n",
        "dados_treino.columns = colunas_\n",
        "dados_teste.columns = colunas_ \n",
        "dados_valid_sample.columns = colunas_\n",
        "dados_desafioqt.columns =  ['ID', 'ciencias_naturais', 'ciencias_humanas', 'matematica', 'redacao']\n",
        "\n",
        "#Separando dados treinoXteste\n",
        "coluna_label = 'linguagem_codigo'\n",
        "coluna_features = ['ciencias_naturais', 'ciencias_humanas', 'matematica', 'redacao']\n",
        "\n",
        "X_treino = dados_treino[coluna_features].to_numpy()\n",
        "Y_treino = dados_treino[coluna_label].to_numpy()\n",
        "\n",
        "X_teste = dados_teste[coluna_features].to_numpy()\n",
        "Y_teste = dados_teste[coluna_label].to_numpy()\n",
        "\n",
        "X_valid = dados_treino[coluna_features].to_numpy()\n",
        "Y_valid = dados_treino[coluna_label].to_numpy()"
      ],
      "execution_count": 0,
      "outputs": []
    },
    {
      "cell_type": "code",
      "metadata": {
        "id": "HmvvpeUZHUar",
        "colab_type": "code",
        "colab": {}
      },
      "source": [
        "dados_validacao2 = \"/content/DADOS_VALIDACAO_SEED_845309.csv\"\n",
        "dados_validacao2 = pd.read_csv(dados_validacao2)\n",
        "dados_validacao2 = dados_validacao2[colunas_de_notas]\n",
        "dados_validacao2.columns = colunas_\n",
        "\n",
        "X_valid2 = dados_validacao2[coluna_features].to_numpy()\n",
        "Y_valid2 = dados_validacao2[coluna_label].to_numpy()"
      ],
      "execution_count": 0,
      "outputs": []
    },
    {
      "cell_type": "markdown",
      "metadata": {
        "id": "_krDqwcQyEuI",
        "colab_type": "text"
      },
      "source": [
        "# #Exploração\n",
        "\n"
      ]
    },
    {
      "cell_type": "code",
      "metadata": {
        "id": "gBYKgDYAev8T",
        "colab_type": "code",
        "outputId": "705a67e5-7068-43da-9310-871c33c03455",
        "colab": {
          "base_uri": "https://localhost:8080/",
          "height": 367
        }
      },
      "source": [
        "import seaborn as sns \n",
        "corr = dados_treino.corr()\n",
        "sns.heatmap(corr)"
      ],
      "execution_count": 15,
      "outputs": [
        {
          "output_type": "execute_result",
          "data": {
            "text/plain": [
              "<matplotlib.axes._subplots.AxesSubplot at 0x7faacc239a90>"
            ]
          },
          "metadata": {
            "tags": []
          },
          "execution_count": 15
        },
        {
          "output_type": "display_data",
          "data": {
            "image/png": "[encoded data removed]",
            "text/plain": [
              "<Figure size 432x288 with 2 Axes>"
            ]
          },
          "metadata": {
            "tags": [],
            "needs_background": "light"
          }
        }
      ]
    },
    {
      "cell_type": "code",
      "metadata": {
        "id": "NUeZzsM3gX3J",
        "colab_type": "code",
        "colab": {}
      },
      "source": [
        "from string import ascii_letters\n",
        "import matplotlib.pyplot as plt\n",
        "\n",
        "# Generate a mask for the upper triangle\n",
        "mask = np.triu(np.ones_like(corr, dtype=np.bool))\n",
        "\n",
        "# Set up the matplotlib figure\n",
        "f, ax = plt.subplots(figsize=(11, 9))\n",
        "\n",
        "# Generate a custom diverging colormap\n",
        "#cmap = sns.diverging_palette(220, 10, as_cmap=True)\n",
        "\n",
        "# Draw the heatmap with the mask and correct aspect ratio\n",
        "sns.heatmap(corr, mask=mask,  center=0,\n",
        "            square=True, cbar_kws={\"shrink\": .8})\n",
        "plt.yticks(rotation=0,fontsize=12)\n",
        "plt.xticks(rotation=90,fontsize=12)"
      ],
      "execution_count": 0,
      "outputs": []
    },
    {
      "cell_type": "code",
      "metadata": {
        "id": "IsiMOZ44h18u",
        "colab_type": "code",
        "colab": {}
      },
      "source": [
        "sns.pairplot(dados_teste)\n",
        "plt.figure(figsize=(10,5))"
      ],
      "execution_count": 0,
      "outputs": []
    },
    {
      "cell_type": "code",
      "metadata": {
        "id": "ORRLaZTf1JyE",
        "colab_type": "code",
        "colab": {}
      },
      "source": [
        "dados_treino_com_media.query(\"matematica == 0 | linguagem_codigo == 0 | ciencias_naturais == 0 | ciencias_humanas == 0 | redacao == 0 \")\n"
      ],
      "execution_count": 0,
      "outputs": []
    },
    {
      "cell_type": "code",
      "metadata": {
        "id": "Sop1iPr1y_5B",
        "colab_type": "code",
        "colab": {}
      },
      "source": [
        "aux3.head()"
      ],
      "execution_count": 0,
      "outputs": []
    },
    {
      "cell_type": "code",
      "metadata": {
        "id": "gQ1fagLqPOcE",
        "colab_type": "code",
        "colab": {}
      },
      "source": [
        "\n",
        "#sn.barplot(x=dados_treino.columns,y=dados_treino[])\n",
        "dados_treino_aux = dados_treino.reset_index().rename(columns={'index': 'Aluno'})\n",
        "\n",
        "plot_dados_treino = pd.melt(dados_treino_aux, id_vars=\"Aluno\", var_name=\"Disciplina\", value_name=\"Nota\")\n",
        "\n",
        "\n",
        "barplot = sns.catplot(x='Aluno',\n",
        "                      y='Nota',\n",
        "                      hue='Disciplina',\n",
        "                      data=plot_dados_treino.query(\"Aluno < 10\"), kind=\"bar\", legend=False,\n",
        "                      palette='Set1', height=10, aspect=2)\n",
        "barplot.ax.legend(loc=2, fontsize=12)\n",
        "plt.figure(figsize=(5, 5))\n",
        "plt.show()\n"
      ],
      "execution_count": 0,
      "outputs": []
    },
    {
      "cell_type": "code",
      "metadata": {
        "id": "W6gWCTqbvkIW",
        "colab_type": "code",
        "colab": {}
      },
      "source": [
        "sns.pairplot(dados_treino)"
      ],
      "execution_count": 0,
      "outputs": []
    },
    {
      "cell_type": "code",
      "metadata": {
        "id": "q0bEWwwghMWS",
        "colab_type": "code",
        "colab": {}
      },
      "source": [
        "dados_teste.head()"
      ],
      "execution_count": 0,
      "outputs": []
    },
    {
      "cell_type": "markdown",
      "metadata": {
        "id": "ortjD-4iyYUx",
        "colab_type": "text"
      },
      "source": [
        "# #Aplicando ML"
      ]
    },
    {
      "cell_type": "code",
      "metadata": {
        "id": "qWkIAYYxiFyV",
        "colab_type": "code",
        "colab": {}
      },
      "source": [
        "#Verificando se tem aluno zerado em todas as materias\n",
        "aux = dados_treino.loc[:] == 0\n",
        "aux2= aux.query(\"matematica == True & linguagem_codigo == True & ciencias_naturais == True & ciencias_humanas == True & redacao == 0 \")\n",
        "\n",
        "\n",
        "aux3= dados_treino.query(\"matematica == 0 | linguagem_codigo == 0 | ciencias_naturais == 0 | ciencias_humanas == 0 | redacao == 0 \")\n",
        "aux3.head()\n",
        "dados_treino_sem_zeros = dados_treino.drop(aux3.index,axis=0)\n",
        "dados_treino_sem_zeros.head()\n",
        "\n",
        "\n",
        "aux4= dados_teste.query(\"matematica == 0 | linguagem_codigo == 0 | ciencias_naturais == 0 | ciencias_humanas == 0 | redacao == 0 \")\n",
        "aux4.head()\n",
        "dados_teste_sem_zeros = dados_treino.drop(aux4.index,axis=0)\n",
        "\n",
        "#Separando dados treinoXteste\n",
        "coluna_label = 'linguagem_codigo'\n",
        "coluna_features = ['ciencias_naturais', 'ciencias_humanas', 'matematica', 'redacao']\n",
        "\n",
        "X_treino_sem_zero = dados_treino_sem_zeros[coluna_features].to_numpy()\n",
        "Y_treino_sem_zero = dados_treino_sem_zeros[coluna_label].to_numpy()"
      ],
      "execution_count": 0,
      "outputs": []
    },
    {
      "cell_type": "code",
      "metadata": {
        "id": "BswpbKd6zwVT",
        "colab_type": "code",
        "outputId": "e2ced7c0-4978-481b-e963-5d363e39d5c3",
        "colab": {
          "base_uri": "https://localhost:8080/",
          "height": 133
        }
      },
      "source": [
        "#Substituindo zeros pela média\n",
        "nonzero_mean_treino = dados_treino[dados_treino.iloc[:,:] != 0].mean()\n",
        "nonzero_mean_teste = dados_teste[ dados_teste.iloc[:,:] != 0 ].mean()\n",
        "nonzero_mean_desafio = dados_desafioqt[ dados_desafioqt.iloc[:,:] != 0 ].mean()\n",
        "\n",
        "dados_treino_com_media = dados_treino_sem_zeros.copy()\n",
        "dados_teste_com_media = dados_teste_sem_zeros.copy()\n",
        "dados_desafioqt_com_media = dados_desafioqt.copy()\n",
        "\n",
        "for i in range(5):\n",
        "  dados_treino_com_media.iloc[:,i].replace(0,nonzero_mean_treino[i], inplace=True)\n",
        "  dados_teste_com_media.iloc[:,i].replace(0,nonzero_mean_teste[i], inplace=True)\n",
        "  dados_desafioqt_com_media.iloc[:,i].replace(0,nonzero_mean_desafio[i], inplace=True)\n",
        "\n",
        "X_treino_media = dados_treino_com_media[coluna_features].to_numpy()\n",
        "Y_treino_media = dados_treino_com_media[coluna_label].to_numpy()\n",
        "\n",
        "X_teste_media = dados_teste_com_media[coluna_features].to_numpy()\n",
        "Y_teste_media = dados_teste_com_media[coluna_label].to_numpy()\n",
        "\n",
        "X_desafioqt = dados_desafioqt_com_media[coluna_features].to_numpy()\n",
        "X_teste_media"
      ],
      "execution_count": 23,
      "outputs": [
        {
          "output_type": "execute_result",
          "data": {
            "text/plain": [
              "array([[530.7      , 586.5      , 539.       , 520.       ],\n",
              "       [439.4      , 577.9      , 488.7      , 380.       ],\n",
              "       [414.1      , 548.8      , 382.6      , 600.       ],\n",
              "       ...,\n",
              "       [471.       , 558.7      , 542.9      , 460.       ],\n",
              "       [476.7      , 463.5      , 434.       , 527.4531242],\n",
              "       [637.8      , 611.5      , 731.7      , 600.       ]])"
            ]
          },
          "metadata": {
            "tags": []
          },
          "execution_count": 23
        }
      ]
    },
    {
      "cell_type": "code",
      "metadata": {
        "id": "70I1dW5lBrc6",
        "colab_type": "code",
        "colab": {
          "base_uri": "https://localhost:8080/",
          "height": 33
        },
        "outputId": "4835213e-829b-4eba-a719-4a100330dee8"
      },
      "source": [
        "\n",
        "#Decision Tree Regressor\n",
        "from sklearn.tree import DecisionTreeRegressor, DecisionTreeClassifier\n",
        "\n",
        "# Define model. Specify a number for random_state to ensure same results each run\n",
        "decisionTreeRegressor_model = DecisionTreeRegressor(random_state=1)\n",
        "\n",
        "# Fit model\n",
        "decisionTreeRegressor_model.fit(X_treino_media, Y_treino_media)\n",
        "\n",
        "#Predicao\n",
        "decisionTreeRegressor_predict = decisionTreeRegressor_model.predict(X_valid2)\n",
        "score = decisionTreeRegressor_model.score(X_valid2,Y_valid2)\n",
        "avaliacao_TreeRegressor = mean_squared_error(Y_valid2, decisionTreeRegressor_predict)\n",
        "print(f\"Minha avaliação nos dados de teste foi de {avaliacao_TreeRegressor, score}\")"
      ],
      "execution_count": 52,
      "outputs": [
        {
          "output_type": "stream",
          "text": [
            "Minha avaliação nos dados de teste foi de (4275.785669, 0.17577583599122315)\n"
          ],
          "name": "stdout"
        }
      ]
    },
    {
      "cell_type": "code",
      "metadata": {
        "id": "FIEDGBqbGh2i",
        "colab_type": "code",
        "colab": {}
      },
      "source": [
        "#Random Forest Regressor\n",
        "from sklearn.ensemble import RandomForestRegressor\n",
        "from sklearn.metrics import mean_squared_error\n",
        "\n",
        "for i in range (20):\n",
        "  \n",
        "  forest_model1 = RandomForestRegressor(random_state=1, max_depth=i+1)\n",
        "  forest_model1.fit(X_treino, Y_treino)\n",
        "  forest_predict = forest_model1.predict(X_teste)\n",
        "  avaliacao_forest = mean_squared_error(Y_teste, forest_predict)\n",
        "  score = forest_model1.score(X_teste,Y_teste)\n",
        "\n",
        "\n",
        "  print(f\"Minha avaliação nos dados de teste foi de {avaliacao_forest,score}\")"
      ],
      "execution_count": 0,
      "outputs": []
    },
    {
      "cell_type": "code",
      "metadata": {
        "id": "CeE92Xf_6UY4",
        "colab_type": "code",
        "colab": {}
      },
      "source": [
        "forest_model1.score(X_valid,Y_valid)"
      ],
      "execution_count": 0,
      "outputs": []
    },
    {
      "cell_type": "code",
      "metadata": {
        "colab_type": "code",
        "outputId": "5101202c-4439-4f9a-a0fe-d169ec7728c8",
        "id": "MoImmzBE6UuL",
        "colab": {
          "base_uri": "https://localhost:8080/",
          "height": 33
        }
      },
      "source": [
        "#Random Forest Regressor\n",
        "from sklearn.ensemble import RandomForestRegressor\n",
        "\n",
        "forest_model2 = RandomForestRegressor(random_state=1, max_depth=10)\n",
        "\n",
        "forest_model2.fit(X_treino_media, Y_treino_media)\n",
        "\n",
        "forest_predict = forest_model2.predict(X_valid2)\n",
        "avaliacao_forest = mean_squared_error(Y_valid2, forest_predict)\n",
        "score = forest_model2.score(X_valid2,Y_valid2)\n",
        "print(\"Minha avaliação nos dados de teste {} foi de {:.4}\".format(avaliacao_forest,score))"
      ],
      "execution_count": 40,
      "outputs": [
        {
          "output_type": "stream",
          "text": [
            "Minha avaliação nos dados de teste 2062.46946557452 foi de 0.6024\n"
          ],
          "name": "stdout"
        }
      ]
    },
    {
      "cell_type": "code",
      "metadata": {
        "id": "hiYZGQCOXKLx",
        "colab_type": "code",
        "colab": {
          "base_uri": "https://localhost:8080/",
          "height": 33
        },
        "outputId": "f978a692-c05a-4906-e067-a3ba2d56f706"
      },
      "source": [
        "forest_model2.score(X_valid2,Y_valid2)"
      ],
      "execution_count": 41,
      "outputs": [
        {
          "output_type": "execute_result",
          "data": {
            "text/plain": [
              "0.60"
            ]
          },
          "metadata": {
            "tags": []
          },
          "execution_count": 41
        }
      ]
    },
    {
      "cell_type": "code",
      "metadata": {
        "id": "J7bGdYhtR5av",
        "colab_type": "code",
        "colab": {
          "base_uri": "https://localhost:8080/",
          "height": 33
        },
        "outputId": "5f5f7f7c-e941-4a98-d62b-c96b5f01320d"
      },
      "source": [
        "from sklearn import ensemble\n",
        "\n",
        "clf_et = ensemble.ExtraTreesRegressor(random_state=42,n_estimators=200)\n",
        "clf_et.fit(X_treino_media, Y_treino_media)\n",
        "print(\"score: \", clf_et.score(X_valid2,Y_valid2))\n"
      ],
      "execution_count": 51,
      "outputs": [
        {
          "output_type": "stream",
          "text": [
            "score:  0.5533713517503994\n"
          ],
          "name": "stdout"
        }
      ]
    },
    {
      "cell_type": "code",
      "metadata": {
        "id": "Jb9_2qyUDqcu",
        "colab_type": "code",
        "colab": {
          "base_uri": "https://localhost:8080/",
          "height": 167
        },
        "outputId": "94dcfa45-e819-4964-81ef-af7a77fc26f1"
      },
      "source": [
        "from sklearn.ensemble import GradientBoostingRegressor\n",
        "SEED = 0xCAFEF0DA\n",
        "np.random.seed(SEED)\n",
        "\n",
        "params = {\n",
        "    'loss': 'huber',\n",
        "    'criterion': 'mse',\n",
        "    'n_estimators': 173,\n",
        "    'learning_rate': 0.1,\n",
        "    'min_samples_split': 4,\n",
        "    'min_samples_leaf': 1,\n",
        "    'max_depth': 4,\n",
        "    'random_state': SEED\n",
        "}\n",
        "\n",
        "model = GradientBoostingRegressor(**params)\n",
        "model.fit(X_treino_sem_zero, Y_treino_sem_zero)\n"
      ],
      "execution_count": 53,
      "outputs": [
        {
          "output_type": "execute_result",
          "data": {
            "text/plain": [
              "GradientBoostingRegressor(alpha=0.9, ccp_alpha=0.0, criterion='mse', init=None,\n",
              "                          learning_rate=0.1, loss='huber', max_depth=4,\n",
              "                          max_features=None, max_leaf_nodes=None,\n",
              "                          min_impurity_decrease=0.0, min_impurity_split=None,\n",
              "                          min_samples_leaf=1, min_samples_split=4,\n",
              "                          min_weight_fraction_leaf=0.0, n_estimators=173,\n",
              "                          n_iter_no_change=None, presort='deprecated',\n",
              "                          random_state=3405705434, subsample=1.0, tol=0.0001,\n",
              "                          validation_fraction=0.1, verbose=0, warm_start=False)"
            ]
          },
          "metadata": {
            "tags": []
          },
          "execution_count": 53
        }
      ]
    },
    {
      "cell_type": "code",
      "metadata": {
        "id": "qvWCe9-REZ46",
        "colab_type": "code",
        "colab": {
          "base_uri": "https://localhost:8080/",
          "height": 33
        },
        "outputId": "31fcea28-5f8d-48e8-e66e-c7f2144bf2b3"
      },
      "source": [
        "from sklearn.metrics import mean_squared_error\n",
        "print(model.score(X_valid2, Y_valid2),mean_squared_error(Y_valid2,model.predict(X_valid2) ))"
      ],
      "execution_count": 54,
      "outputs": [
        {
          "output_type": "stream",
          "text": [
            "0.5970521693525532 2090.3519150145235\n"
          ],
          "name": "stdout"
        }
      ]
    },
    {
      "cell_type": "code",
      "metadata": {
        "id": "MjuFz-v2Gz_S",
        "colab_type": "code",
        "colab": {}
      },
      "source": [
        ""
      ],
      "execution_count": 0,
      "outputs": []
    },
    {
      "cell_type": "code",
      "metadata": {
        "colab_type": "code",
        "outputId": "2041a662-14e0-4451-e4d4-6b3838767808",
        "id": "6ewJO7juG0NR",
        "colab": {
          "base_uri": "https://localhost:8080/",
          "height": 33
        }
      },
      "source": [
        "from sklearn.metrics import mean_squared_error\n",
        "print(model.score(X_teste_media, Y_teste_media),mean_squared_error(Y_teste_media,model.predict(X_teste_media) ))"
      ],
      "execution_count": 38,
      "outputs": [
        {
          "output_type": "stream",
          "text": [
            "0.6190819226770008 1953.683172081029\n"
          ],
          "name": "stdout"
        }
      ]
    },
    {
      "cell_type": "markdown",
      "metadata": {
        "id": "Jo8XRAIFrLvW",
        "colab_type": "text"
      },
      "source": [
        " ##  SVM\n",
        "\n",
        " "
      ]
    },
    {
      "cell_type": "code",
      "metadata": {
        "id": "ozaN5Ig_lXxM",
        "colab_type": "code",
        "colab": {}
      },
      "source": [
        "from sklearn.linear_model import SGDRegressor\n",
        "from sklearn.model_selection import cross_val_score\n",
        "from sklearn.preprocessing import StandardScaler\n",
        "from sklearn.model_selection import train_test_split\n",
        "\n",
        "X_scaler = StandardScaler()\n",
        "y_scaler = StandardScaler()\n",
        "   \n",
        "X_train = X_scaler.fit_transform(X_treino)\n",
        "y_treino = Y_treino.reshape(-1, 1)\n",
        "y_train = y_scaler.fit_transform(y_treino)\n",
        "\n",
        "X_test = X_scaler.transform(X_teste)\n",
        "y_teste = Y_teste.reshape(-1, 1)\n",
        "y_test = y_scaler.transform(y_teste)\n",
        "\n",
        "regressor = SGDRegressor(alpha=0.0013)\n",
        "  \n",
        "#scores = cross_val_score(regressor, X_train, y_train, cv=5)\n",
        "#print (\"Cross validation r-squared scores:\", scores)\n",
        "#print (\"Average cross validation r-squared score:\", np.mean(scores))\n",
        "    \n",
        "regressor.fit(X_train, y_train)\n",
        "print (\"score:\", regressor.score(X_test, y_test))"
      ],
      "execution_count": 0,
      "outputs": []
    },
    {
      "cell_type": "code",
      "metadata": {
        "id": "3NAbxcENfx18",
        "colab_type": "code",
        "colab": {}
      },
      "source": [
        "import math\n",
        "from sklearn.svm import SVR\n",
        "svr_rbf = SVR(kernel='rbf', C=100, gamma=0.1, epsilon=.1)\n",
        "svr_lin = SVR(kernel='linear', C=100, gamma='auto')\n",
        "svr_poly = SVR(kernel='poly', C=100, gamma='auto', degree=3, epsilon=.1,\n",
        "               coef0=1)\n"
      ],
      "execution_count": 0,
      "outputs": []
    },
    {
      "cell_type": "code",
      "metadata": {
        "id": "5fTird6Rgfo8",
        "colab_type": "code",
        "colab": {}
      },
      "source": [
        "import time\n",
        "inicio = time.time()\n",
        "\n",
        "svr_rbf.fit(X_treino, Y_treino)\n",
        "\n",
        "#svr_rbf.score(X_teste,Y_teste)\n",
        "\n",
        "#svr_rbf_pred = svr_rbf.predict(X_teste)\n",
        "#svr_rbf_MSE = mean_squared_error(Y_teste, svr_rbf_pred)\n",
        "\n",
        "#print(f\"Minha avaliação nos dados de teste foi de {svr_rbf_MSE,svr_rbf_pred}\")\n",
        "\n",
        "fim = time.time()\n",
        "print(fim - inicio)"
      ],
      "execution_count": 0,
      "outputs": []
    },
    {
      "cell_type": "code",
      "metadata": {
        "id": "e_KvRHu8X1sA",
        "colab_type": "code",
        "colab": {}
      },
      "source": [
        "print(range(1,20,1))"
      ],
      "execution_count": 0,
      "outputs": []
    },
    {
      "cell_type": "code",
      "metadata": {
        "id": "EZ2a7Xy9U1jZ",
        "colab_type": "code",
        "outputId": "49c37baa-57ec-4cd2-c8c5-2bb18bfce24a",
        "colab": {
          "base_uri": "https://localhost:8080/",
          "height": 197
        }
      },
      "source": [
        "d = pd.read_csv(\"DADOS_VALIDACAO_SEED_845309.csv\")\n",
        "Y_valid2 = d['NU_NOTA_LC'] \n",
        "X_valid2 = d[['NU_NOTA_CN', 'NU_NOTA_CH', 'NU_NOTA_MT', 'NU_NOTA_REDACAO']]\n",
        "X_valid2.head()"
      ],
      "execution_count": 0,
      "outputs": [
        {
          "output_type": "execute_result",
          "data": {
            "text/html": [
              "<div>\n",
              "<style scoped>\n",
              "    .dataframe tbody tr th:only-of-type {\n",
              "        vertical-align: middle;\n",
              "    }\n",
              "\n",
              "    .dataframe tbody tr th {\n",
              "        vertical-align: top;\n",
              "    }\n",
              "\n",
              "    .dataframe thead th {\n",
              "        text-align: right;\n",
              "    }\n",
              "</style>\n",
              "<table border=\"1\" class=\"dataframe\">\n",
              "  <thead>\n",
              "    <tr style=\"text-align: right;\">\n",
              "      <th></th>\n",
              "      <th>NU_NOTA_CN</th>\n",
              "      <th>NU_NOTA_CH</th>\n",
              "      <th>NU_NOTA_MT</th>\n",
              "      <th>NU_NOTA_REDACAO</th>\n",
              "    </tr>\n",
              "  </thead>\n",
              "  <tbody>\n",
              "    <tr>\n",
              "      <th>0</th>\n",
              "      <td>496.10</td>\n",
              "      <td>585.30</td>\n",
              "      <td>495.80</td>\n",
              "      <td>320.00</td>\n",
              "    </tr>\n",
              "    <tr>\n",
              "      <th>1</th>\n",
              "      <td>558.50</td>\n",
              "      <td>641.90</td>\n",
              "      <td>515.90</td>\n",
              "      <td>600.00</td>\n",
              "    </tr>\n",
              "    <tr>\n",
              "      <th>2</th>\n",
              "      <td>493.10</td>\n",
              "      <td>566.60</td>\n",
              "      <td>512.00</td>\n",
              "      <td>520.00</td>\n",
              "    </tr>\n",
              "    <tr>\n",
              "      <th>3</th>\n",
              "      <td>410.90</td>\n",
              "      <td>534.40</td>\n",
              "      <td>437.60</td>\n",
              "      <td>340.00</td>\n",
              "    </tr>\n",
              "    <tr>\n",
              "      <th>4</th>\n",
              "      <td>453.50</td>\n",
              "      <td>577.90</td>\n",
              "      <td>545.80</td>\n",
              "      <td>580.00</td>\n",
              "    </tr>\n",
              "  </tbody>\n",
              "</table>\n",
              "</div>"
            ],
            "text/plain": [
              "   NU_NOTA_CN  NU_NOTA_CH  NU_NOTA_MT  NU_NOTA_REDACAO\n",
              "0      496.10      585.30      495.80           320.00\n",
              "1      558.50      641.90      515.90           600.00\n",
              "2      493.10      566.60      512.00           520.00\n",
              "3      410.90      534.40      437.60           340.00\n",
              "4      453.50      577.90      545.80           580.00"
            ]
          },
          "metadata": {
            "tags": []
          },
          "execution_count": 14
        }
      ]
    },
    {
      "cell_type": "markdown",
      "metadata": {
        "id": "2tdSxNM0qZvV",
        "colab_type": "text"
      },
      "source": [
        "#Final"
      ]
    },
    {
      "cell_type": "code",
      "metadata": {
        "id": "wLSg_FQ2qcU1",
        "colab_type": "code",
        "colab": {}
      },
      "source": [
        "#atribuir ao MODELO o nome do seu melhor modelo\n",
        "from google.colab import files\n",
        "\n",
        "MODELO = forest_model2\n",
        "X_desafioqt = dados_desafioqt[coluna_features].to_numpy()\n",
        "predicao_desafioqt = MODELO.predict(X_desafioqt)\n",
        "\n",
        "desafio_df = pd.DataFrame(dados_desafioqt.ID)\n",
        "desafio_df[coluna_label] = predicao_desafioqt\n",
        "desafio_df.columns = ['ID', 'NU_NOTA_LC']\n",
        "\n",
        "#NÃO TROCAR O NOME DO ARQUIVO DE SAÍDA (PREDICAO_DESAFIO)\n",
        "desafio_df.to_csv('PREDICAO_DESAFIOQT.csv', index=False) \n",
        "files.download('PREDICAO_DESAFIOQT.csv')"
      ],
      "execution_count": 0,
      "outputs": []
    },
    {
      "cell_type": "code",
      "metadata": {
        "id": "0VWeKUo9rPs_",
        "colab_type": "code",
        "colab": {}
      },
      "source": [
        "dados_desafioqt = pd.read_csv(URI_DESAFIOQT)\n",
        "dados_desafioqt\n",
        "desafio_df"
      ],
      "execution_count": 0,
      "outputs": []
    }
  ]
}